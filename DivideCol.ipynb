{
 "cells": [
  {
   "cell_type": "code",
   "execution_count": 1,
   "metadata": {},
   "outputs": [],
   "source": [
    "import pandas as pd"
   ]
  },
  {
   "cell_type": "code",
   "execution_count": 2,
   "metadata": {},
   "outputs": [],
   "source": [
    "df = pd.read_excel(\"data_pre.xlsx\")"
   ]
  },
  {
   "cell_type": "code",
   "execution_count": 3,
   "metadata": {},
   "outputs": [
    {
     "data": {
      "text/html": [
       "<div>\n",
       "<style scoped>\n",
       "    .dataframe tbody tr th:only-of-type {\n",
       "        vertical-align: middle;\n",
       "    }\n",
       "\n",
       "    .dataframe tbody tr th {\n",
       "        vertical-align: top;\n",
       "    }\n",
       "\n",
       "    .dataframe thead th {\n",
       "        text-align: right;\n",
       "    }\n",
       "</style>\n",
       "<table border=\"1\" class=\"dataframe\">\n",
       "  <thead>\n",
       "    <tr style=\"text-align: right;\">\n",
       "      <th></th>\n",
       "      <th>Data format : cust_id_token|current_address3|current_city|current_state|current_pin_code|permanent_address3|permanent_city|permanent_state|permanent_pin_code</th>\n",
       "    </tr>\n",
       "  </thead>\n",
       "  <tbody>\n",
       "    <tr>\n",
       "      <th>0</th>\n",
       "      <td>1|JAMBI|INDONESIA|36126|CHENNAI|TAMIL NADU|600029</td>\n",
       "    </tr>\n",
       "    <tr>\n",
       "      <th>1</th>\n",
       "      <td>2|INJAMBAKKAM|CHENNAI|TAMIL NADU|600115|LONDON...</td>\n",
       "    </tr>\n",
       "    <tr>\n",
       "      <th>2</th>\n",
       "      <td>3|ROODEPOORT|JOHANNESBURG|GAUTENG|2169|MANDIR ...</td>\n",
       "    </tr>\n",
       "    <tr>\n",
       "      <th>3</th>\n",
       "      <td>4|DUBAI|DUBAI|18582|BARODA|GUJARAT|390007</td>\n",
       "    </tr>\n",
       "    <tr>\n",
       "      <th>4</th>\n",
       "      <td>5|SIRSA|HARYANA|125055|SIRSA|HARYANA|125055</td>\n",
       "    </tr>\n",
       "  </tbody>\n",
       "</table>\n",
       "</div>"
      ],
      "text/plain": [
       "  Data format : cust_id_token|current_address3|current_city|current_state|current_pin_code|permanent_address3|permanent_city|permanent_state|permanent_pin_code\n",
       "0  1|JAMBI|INDONESIA|36126|CHENNAI|TAMIL NADU|600029                                                                                                           \n",
       "1  2|INJAMBAKKAM|CHENNAI|TAMIL NADU|600115|LONDON...                                                                                                           \n",
       "2  3|ROODEPOORT|JOHANNESBURG|GAUTENG|2169|MANDIR ...                                                                                                           \n",
       "3          4|DUBAI|DUBAI|18582|BARODA|GUJARAT|390007                                                                                                           \n",
       "4        5|SIRSA|HARYANA|125055|SIRSA|HARYANA|125055                                                                                                           "
      ]
     },
     "execution_count": 3,
     "metadata": {},
     "output_type": "execute_result"
    }
   ],
   "source": [
    "df.head()"
   ]
  },
  {
   "cell_type": "code",
   "execution_count": 4,
   "metadata": {},
   "outputs": [],
   "source": [
    "df=df.rename(index=str, columns={\"Data format : cust_id_token|current_address3|current_city|current_state|current_pin_code|permanent_address3|permanent_city|permanent_state|permanent_pin_code\": \"address\"})"
   ]
  },
  {
   "cell_type": "code",
   "execution_count": 5,
   "metadata": {},
   "outputs": [
    {
     "data": {
      "text/html": [
       "<div>\n",
       "<style scoped>\n",
       "    .dataframe tbody tr th:only-of-type {\n",
       "        vertical-align: middle;\n",
       "    }\n",
       "\n",
       "    .dataframe tbody tr th {\n",
       "        vertical-align: top;\n",
       "    }\n",
       "\n",
       "    .dataframe thead th {\n",
       "        text-align: right;\n",
       "    }\n",
       "</style>\n",
       "<table border=\"1\" class=\"dataframe\">\n",
       "  <thead>\n",
       "    <tr style=\"text-align: right;\">\n",
       "      <th></th>\n",
       "      <th>address</th>\n",
       "    </tr>\n",
       "  </thead>\n",
       "  <tbody>\n",
       "    <tr>\n",
       "      <th>0</th>\n",
       "      <td>1|JAMBI|INDONESIA|36126|CHENNAI|TAMIL NADU|600029</td>\n",
       "    </tr>\n",
       "    <tr>\n",
       "      <th>1</th>\n",
       "      <td>2|INJAMBAKKAM|CHENNAI|TAMIL NADU|600115|LONDON...</td>\n",
       "    </tr>\n",
       "    <tr>\n",
       "      <th>2</th>\n",
       "      <td>3|ROODEPOORT|JOHANNESBURG|GAUTENG|2169|MANDIR ...</td>\n",
       "    </tr>\n",
       "    <tr>\n",
       "      <th>3</th>\n",
       "      <td>4|DUBAI|DUBAI|18582|BARODA|GUJARAT|390007</td>\n",
       "    </tr>\n",
       "    <tr>\n",
       "      <th>4</th>\n",
       "      <td>5|SIRSA|HARYANA|125055|SIRSA|HARYANA|125055</td>\n",
       "    </tr>\n",
       "  </tbody>\n",
       "</table>\n",
       "</div>"
      ],
      "text/plain": [
       "                                             address\n",
       "0  1|JAMBI|INDONESIA|36126|CHENNAI|TAMIL NADU|600029\n",
       "1  2|INJAMBAKKAM|CHENNAI|TAMIL NADU|600115|LONDON...\n",
       "2  3|ROODEPOORT|JOHANNESBURG|GAUTENG|2169|MANDIR ...\n",
       "3          4|DUBAI|DUBAI|18582|BARODA|GUJARAT|390007\n",
       "4        5|SIRSA|HARYANA|125055|SIRSA|HARYANA|125055"
      ]
     },
     "execution_count": 5,
     "metadata": {},
     "output_type": "execute_result"
    }
   ],
   "source": [
    "df.head()"
   ]
  },
  {
   "cell_type": "code",
   "execution_count": 11,
   "metadata": {},
   "outputs": [],
   "source": [
    "new = df[\"address\"].str.split(\"|\", n = 10, expand = True)"
   ]
  },
  {
   "cell_type": "code",
   "execution_count": 15,
   "metadata": {
    "scrolled": false
   },
   "outputs": [
    {
     "data": {
      "text/plain": [
       "0       None\n",
       "1       None\n",
       "2     412207\n",
       "3       None\n",
       "4       None\n",
       "5     400034\n",
       "6     791118\n",
       "7       None\n",
       "8       None\n",
       "9       None\n",
       "10      None\n",
       "11      None\n",
       "12      None\n",
       "13    400051\n",
       "14      None\n",
       "15      None\n",
       "16    827013\n",
       "17    100274\n",
       "18    786126\n",
       "19      None\n",
       "20      None\n",
       "21    400080\n",
       "22      None\n",
       "23    401404\n",
       "24      None\n",
       "25    341358\n",
       "26      None\n",
       "27    110018\n",
       "28    400001\n",
       "29      None\n",
       "       ...  \n",
       "70      None\n",
       "71    402112\n",
       "72      None\n",
       "73    400093\n",
       "74    480111\n",
       "75    247001\n",
       "76    590010\n",
       "77    590010\n",
       "78      None\n",
       "79      None\n",
       "80    411014\n",
       "81      None\n",
       "82      None\n",
       "83      None\n",
       "84      None\n",
       "85    146001\n",
       "86    400083\n",
       "87    396450\n",
       "88      None\n",
       "89      None\n",
       "90      None\n",
       "91      None\n",
       "92      None\n",
       "93      None\n",
       "94      None\n",
       "95      None\n",
       "96      None\n",
       "97      None\n",
       "98      None\n",
       "99      None\n",
       "Name: 8, Length: 100, dtype: object"
      ]
     },
     "execution_count": 15,
     "metadata": {},
     "output_type": "execute_result"
    }
   ],
   "source": [
    "new[8]"
   ]
  },
  {
   "cell_type": "code",
   "execution_count": 18,
   "metadata": {},
   "outputs": [],
   "source": [
    "nd = {'cust_id_token':new[0],\n",
    "                      'current_address3':new[1],\n",
    "                      'current_city':new[2],\n",
    "                      'current_state':new[3],\n",
    "                      'current_pin_code':new[4],\n",
    "                      'permanent_address':new[5],\n",
    "                      'permanent_city':new[6],\n",
    "                      'permanent_state':new[7],\n",
    "                      'permanent_pin_code':new[8] }"
   ]
  },
  {
   "cell_type": "code",
   "execution_count": null,
   "metadata": {},
   "outputs": [],
   "source": [
    "new_df = pd.DataFrame(data=)"
   ]
  }
 ],
 "metadata": {
  "kernelspec": {
   "display_name": "Python 3",
   "language": "python",
   "name": "python3"
  },
  "language_info": {
   "codemirror_mode": {
    "name": "ipython",
    "version": 3
   },
   "file_extension": ".py",
   "mimetype": "text/x-python",
   "name": "python",
   "nbconvert_exporter": "python",
   "pygments_lexer": "ipython3",
   "version": "3.6.6"
  }
 },
 "nbformat": 4,
 "nbformat_minor": 2
}
